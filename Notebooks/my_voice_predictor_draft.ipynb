{
 "cells": [
  {
   "cell_type": "code",
   "execution_count": 284,
   "metadata": {},
   "outputs": [],
   "source": [
    "from matplotlib import pyplot as plt\n",
    "from app import Preprocessing\n",
    "\n",
    "import torch\n",
    "import torch.nn as nn\n",
    "\n",
    "import pandas as pd\n",
    "import numpy as np\n",
    "\n",
    "from sklearn.model_selection import train_test_split\n",
    "\n",
    "import random"
   ]
  },
  {
   "cell_type": "code",
   "execution_count": 285,
   "metadata": {},
   "outputs": [
    {
     "data": {
      "text/html": [
       "<div>\n",
       "<style scoped>\n",
       "    .dataframe tbody tr th:only-of-type {\n",
       "        vertical-align: middle;\n",
       "    }\n",
       "\n",
       "    .dataframe tbody tr th {\n",
       "        vertical-align: top;\n",
       "    }\n",
       "\n",
       "    .dataframe thead th {\n",
       "        text-align: right;\n",
       "    }\n",
       "</style>\n",
       "<table border=\"1\" class=\"dataframe\">\n",
       "  <thead>\n",
       "    <tr style=\"text-align: right;\">\n",
       "      <th></th>\n",
       "      <th>1</th>\n",
       "      <th>2</th>\n",
       "      <th>3</th>\n",
       "      <th>4</th>\n",
       "      <th>5</th>\n",
       "      <th>6</th>\n",
       "      <th>7</th>\n",
       "      <th>8</th>\n",
       "      <th>9</th>\n",
       "      <th>10</th>\n",
       "      <th>...</th>\n",
       "      <th>248</th>\n",
       "      <th>249</th>\n",
       "      <th>250</th>\n",
       "      <th>251</th>\n",
       "      <th>252</th>\n",
       "      <th>253</th>\n",
       "      <th>254</th>\n",
       "      <th>255</th>\n",
       "      <th>256</th>\n",
       "      <th>0</th>\n",
       "    </tr>\n",
       "  </thead>\n",
       "  <tbody>\n",
       "    <tr>\n",
       "      <th>5827</th>\n",
       "      <td>-1.0</td>\n",
       "      <td>-1.0</td>\n",
       "      <td>-1.000</td>\n",
       "      <td>-1.000</td>\n",
       "      <td>-1.0</td>\n",
       "      <td>-1.0</td>\n",
       "      <td>-1.000</td>\n",
       "      <td>0.013</td>\n",
       "      <td>0.206</td>\n",
       "      <td>-1.000</td>\n",
       "      <td>...</td>\n",
       "      <td>0.605</td>\n",
       "      <td>-0.027</td>\n",
       "      <td>-1.000</td>\n",
       "      <td>-1.000</td>\n",
       "      <td>-1.000</td>\n",
       "      <td>-1.0</td>\n",
       "      <td>-1.0</td>\n",
       "      <td>-1.0</td>\n",
       "      <td>-1.0</td>\n",
       "      <td>1.0</td>\n",
       "    </tr>\n",
       "    <tr>\n",
       "      <th>5828</th>\n",
       "      <td>-1.0</td>\n",
       "      <td>-1.0</td>\n",
       "      <td>-1.000</td>\n",
       "      <td>-1.000</td>\n",
       "      <td>-1.0</td>\n",
       "      <td>-1.0</td>\n",
       "      <td>-1.000</td>\n",
       "      <td>-1.000</td>\n",
       "      <td>-1.000</td>\n",
       "      <td>-0.060</td>\n",
       "      <td>...</td>\n",
       "      <td>-1.000</td>\n",
       "      <td>-0.196</td>\n",
       "      <td>0.965</td>\n",
       "      <td>-0.812</td>\n",
       "      <td>-1.000</td>\n",
       "      <td>-1.0</td>\n",
       "      <td>-1.0</td>\n",
       "      <td>-1.0</td>\n",
       "      <td>-1.0</td>\n",
       "      <td>4.0</td>\n",
       "    </tr>\n",
       "    <tr>\n",
       "      <th>5829</th>\n",
       "      <td>-1.0</td>\n",
       "      <td>-1.0</td>\n",
       "      <td>-1.000</td>\n",
       "      <td>-1.000</td>\n",
       "      <td>-1.0</td>\n",
       "      <td>-1.0</td>\n",
       "      <td>-0.161</td>\n",
       "      <td>0.810</td>\n",
       "      <td>0.731</td>\n",
       "      <td>-0.341</td>\n",
       "      <td>...</td>\n",
       "      <td>-0.940</td>\n",
       "      <td>-0.128</td>\n",
       "      <td>0.682</td>\n",
       "      <td>0.893</td>\n",
       "      <td>-0.627</td>\n",
       "      <td>-1.0</td>\n",
       "      <td>-1.0</td>\n",
       "      <td>-1.0</td>\n",
       "      <td>-1.0</td>\n",
       "      <td>8.0</td>\n",
       "    </tr>\n",
       "    <tr>\n",
       "      <th>5830</th>\n",
       "      <td>-1.0</td>\n",
       "      <td>-1.0</td>\n",
       "      <td>0.153</td>\n",
       "      <td>0.308</td>\n",
       "      <td>-0.5</td>\n",
       "      <td>-0.5</td>\n",
       "      <td>-0.154</td>\n",
       "      <td>0.105</td>\n",
       "      <td>0.500</td>\n",
       "      <td>0.500</td>\n",
       "      <td>...</td>\n",
       "      <td>0.102</td>\n",
       "      <td>0.989</td>\n",
       "      <td>-0.091</td>\n",
       "      <td>-1.000</td>\n",
       "      <td>-1.000</td>\n",
       "      <td>-1.0</td>\n",
       "      <td>-1.0</td>\n",
       "      <td>-1.0</td>\n",
       "      <td>-1.0</td>\n",
       "      <td>7.0</td>\n",
       "    </tr>\n",
       "    <tr>\n",
       "      <th>5831</th>\n",
       "      <td>-1.0</td>\n",
       "      <td>-1.0</td>\n",
       "      <td>-1.000</td>\n",
       "      <td>-1.000</td>\n",
       "      <td>-1.0</td>\n",
       "      <td>-1.0</td>\n",
       "      <td>-0.509</td>\n",
       "      <td>0.883</td>\n",
       "      <td>-0.445</td>\n",
       "      <td>-1.000</td>\n",
       "      <td>...</td>\n",
       "      <td>-0.125</td>\n",
       "      <td>0.842</td>\n",
       "      <td>-0.788</td>\n",
       "      <td>-1.000</td>\n",
       "      <td>-1.000</td>\n",
       "      <td>-1.0</td>\n",
       "      <td>-1.0</td>\n",
       "      <td>-1.0</td>\n",
       "      <td>-1.0</td>\n",
       "      <td>1.0</td>\n",
       "    </tr>\n",
       "  </tbody>\n",
       "</table>\n",
       "<p>5 rows × 257 columns</p>\n",
       "</div>"
      ],
      "text/plain": [
       "        1    2      3      4    5    6      7      8      9     10  ...  \\\n",
       "5827 -1.0 -1.0 -1.000 -1.000 -1.0 -1.0 -1.000  0.013  0.206 -1.000  ...   \n",
       "5828 -1.0 -1.0 -1.000 -1.000 -1.0 -1.0 -1.000 -1.000 -1.000 -0.060  ...   \n",
       "5829 -1.0 -1.0 -1.000 -1.000 -1.0 -1.0 -0.161  0.810  0.731 -0.341  ...   \n",
       "5830 -1.0 -1.0  0.153  0.308 -0.5 -0.5 -0.154  0.105  0.500  0.500  ...   \n",
       "5831 -1.0 -1.0 -1.000 -1.000 -1.0 -1.0 -0.509  0.883 -0.445 -1.000  ...   \n",
       "\n",
       "        248    249    250    251    252  253  254  255  256    0  \n",
       "5827  0.605 -0.027 -1.000 -1.000 -1.000 -1.0 -1.0 -1.0 -1.0  1.0  \n",
       "5828 -1.000 -0.196  0.965 -0.812 -1.000 -1.0 -1.0 -1.0 -1.0  4.0  \n",
       "5829 -0.940 -0.128  0.682  0.893 -0.627 -1.0 -1.0 -1.0 -1.0  8.0  \n",
       "5830  0.102  0.989 -0.091 -1.000 -1.000 -1.0 -1.0 -1.0 -1.0  7.0  \n",
       "5831 -0.125  0.842 -0.788 -1.000 -1.000 -1.0 -1.0 -1.0 -1.0  1.0  \n",
       "\n",
       "[5 rows x 257 columns]"
      ]
     },
     "execution_count": 285,
     "metadata": {},
     "output_type": "execute_result"
    }
   ],
   "source": [
    "pre = Preprocessing('digits')\n",
    "pre.load_data(filename='train.csv', name='train').tail()"
   ]
  },
  {
   "cell_type": "code",
   "execution_count": 286,
   "metadata": {},
   "outputs": [],
   "source": [
    "classes = ['0_0.0', '0_1.0', '0_2.0', '0_3.0', '0_4.0', '0_5.0', '0_6.0', '0_7.0', '0_8.0', '0_9.0']"
   ]
  },
  {
   "cell_type": "code",
   "execution_count": 287,
   "metadata": {},
   "outputs": [],
   "source": [
    "X_train_df, X_val_df, y_train_df, y_val_df = train_test_split(pre.get('train').drop(columns=['0']),\n",
    "                                                      pre.get('train')['0'],\n",
    "                                                      test_size=0.2)"
   ]
  },
  {
   "cell_type": "code",
   "execution_count": 288,
   "metadata": {},
   "outputs": [],
   "source": [
    "#transfom to torch striuctures\n",
    "dtype = torch.float\n",
    "device = torch.device(\"cpu\")\n",
    "\n",
    "X_train = torch.tensor(X_train_df.values, device=device, dtype=dtype)\n",
    "X_test = torch.tensor(X_val_df.values, device=device, dtype=dtype)\n",
    "\n",
    "y_train = torch.tensor(y_train_df.values, device=device, dtype=dtype)\n",
    "y_test = torch.tensor(y_val_df.values, device=device, dtype=dtype)"
   ]
  },
  {
   "cell_type": "code",
   "execution_count": 289,
   "metadata": {},
   "outputs": [
    {
     "data": {
      "text/plain": [
       "tensor([9., 2., 5.,  ..., 1., 1., 2.])"
      ]
     },
     "execution_count": 289,
     "metadata": {},
     "output_type": "execute_result"
    }
   ],
   "source": [
    "y_train"
   ]
  },
  {
   "cell_type": "code",
   "execution_count": 290,
   "metadata": {},
   "outputs": [],
   "source": [
    "n_features = X_train.size()[1]\n",
    "n_classes = len(np.unique(y_train.round().numpy()))"
   ]
  },
  {
   "cell_type": "code",
   "execution_count": 291,
   "metadata": {},
   "outputs": [
    {
     "data": {
      "text/plain": [
       "(256, 10)"
      ]
     },
     "execution_count": 291,
     "metadata": {},
     "output_type": "execute_result"
    }
   ],
   "source": [
    "n_features, n_classes"
   ]
  },
  {
   "cell_type": "code",
   "execution_count": 292,
   "metadata": {},
   "outputs": [],
   "source": [
    "model = torch.nn.Sequential(\n",
    "    torch.nn.Linear(n_features, n_classes),\n",
    "    #torch.nn.Softmax()\n",
    ")\n",
    "\n",
    "criterion = nn.CrossEntropyLoss()\n",
    "optimizer = torch.optim.SGD(model.parameters(), lr=0.001, momentum=0.9)"
   ]
  },
  {
   "cell_type": "code",
   "execution_count": 293,
   "metadata": {},
   "outputs": [],
   "source": [
    "# Zufällige initialisierung der Gewichte\n",
    "w1 = torch.ones(14, 1, device=device, dtype=dtype)\n",
    "\n",
    "learning_rate = 1e-02"
   ]
  },
  {
   "cell_type": "code",
   "execution_count": 294,
   "metadata": {},
   "outputs": [
    {
     "data": {
      "text/plain": [
       "256"
      ]
     },
     "execution_count": 294,
     "metadata": {},
     "output_type": "execute_result"
    }
   ],
   "source": [
    "X_train.size()[1]"
   ]
  },
  {
   "cell_type": "code",
   "execution_count": 439,
   "metadata": {},
   "outputs": [
    {
     "data": {
      "text/plain": [
       "tensor([[-1.0000, -1.0000, -1.0000,  ..., -1.0000, -1.0000, -1.0000],\n",
       "        [-1.0000, -1.0000, -1.0000,  ..., -1.0000, -1.0000, -1.0000],\n",
       "        [-1.0000, -0.9440, -0.2840,  ..., -1.0000, -1.0000, -1.0000],\n",
       "        ...,\n",
       "        [-1.0000, -1.0000, -1.0000,  ..., -1.0000, -1.0000, -1.0000],\n",
       "        [-1.0000, -1.0000, -1.0000,  ..., -1.0000, -1.0000, -1.0000],\n",
       "        [-1.0000, -1.0000, -1.0000,  ..., -1.0000, -1.0000, -1.0000]])"
      ]
     },
     "execution_count": 439,
     "metadata": {},
     "output_type": "execute_result"
    }
   ],
   "source": [
    "X_train\n"
   ]
  },
  {
   "cell_type": "code",
   "execution_count": 440,
   "metadata": {},
   "outputs": [],
   "source": [
    "index = [2,1,0]"
   ]
  },
  {
   "cell_type": "code",
   "execution_count": 442,
   "metadata": {},
   "outputs": [
    {
     "data": {
      "text/plain": [
       "torch.Size([3, 256])"
      ]
     },
     "execution_count": 442,
     "metadata": {},
     "output_type": "execute_result"
    }
   ],
   "source": [
    "X_train[index,:].size()"
   ]
  },
  {
   "cell_type": "code",
   "execution_count": 298,
   "metadata": {},
   "outputs": [
    {
     "data": {
      "text/plain": [
       "tensor([8., 7., 5., 6., 2., 8., 0., 3., 8., 8., 1., 3., 6., 6., 6., 7., 9., 4.,\n",
       "        0., 5., 2., 4., 9., 3., 9., 5., 4., 1., 4., 0., 4., 0., 7., 9., 5., 6.,\n",
       "        4., 0., 8., 5., 0., 8., 0., 2., 5., 2., 5., 2., 3., 0., 5., 1., 3., 3.,\n",
       "        3., 1., 7., 1., 9., 0., 0., 1., 0., 1., 2., 1., 7., 2., 5., 0., 0., 9.,\n",
       "        2., 0., 1., 6., 5., 2., 1., 4., 7., 5., 7., 0., 3., 5., 3., 4., 2., 5.,\n",
       "        7., 1., 7., 6., 6., 9., 0., 2., 6.])"
      ]
     },
     "execution_count": 298,
     "metadata": {},
     "output_type": "execute_result"
    }
   ],
   "source": [
    "y_train.view(-1)[idx_y_train].view(y_train.size())[0:mini_batch_size-1]"
   ]
  },
  {
   "cell_type": "code",
   "execution_count": 451,
   "metadata": {},
   "outputs": [],
   "source": [
    "def get_mini_batching(X_train, y_train, batch_size):\n",
    "    \n",
    "        X_train_col_size = X_train.size()[1]\n",
    "        train_data = torch.cat((X_train, y_train.view(len(y_train), 1)), 1)\n",
    "        num_rows = train_data.size()[0]\n",
    "        \n",
    "        idx =  torch.randperm(num_rows)\n",
    "        print(idx)\n",
    "        train_data_mini = train_data[idx,:][:batch_size, :]\n",
    "        \n",
    "        X_train_mini = train_data_mini[:,:X_train_col_size]\n",
    "        y_train_mini = train_data_mini[:,X_train_col_size:]\n",
    "        return X_train_mini, y_train_mini.view(len(y_train_mini))\n",
    "        \n",
    "        "
   ]
  },
  {
   "cell_type": "code",
   "execution_count": 389,
   "metadata": {},
   "outputs": [
    {
     "data": {
      "text/plain": [
       "tensor([[-1.0000, -1.0000, -1.0000,  ..., -1.0000, -1.0000,  9.0000],\n",
       "        [-1.0000, -1.0000, -1.0000,  ..., -1.0000, -1.0000,  2.0000],\n",
       "        [-1.0000, -0.9440, -0.2840,  ..., -1.0000, -1.0000,  5.0000],\n",
       "        ...,\n",
       "        [-1.0000, -1.0000, -1.0000,  ..., -1.0000, -1.0000,  1.0000],\n",
       "        [-1.0000, -1.0000, -1.0000,  ..., -1.0000, -1.0000,  1.0000],\n",
       "        [-1.0000, -1.0000, -1.0000,  ..., -1.0000, -1.0000,  2.0000]])"
      ]
     },
     "execution_count": 389,
     "metadata": {},
     "output_type": "execute_result"
    }
   ],
   "source": [
    "train_data= torch.cat((X_train, y_train.view(len(y_train), 1)), 1)\n",
    "train_data"
   ]
  },
  {
   "cell_type": "code",
   "execution_count": 390,
   "metadata": {},
   "outputs": [
    {
     "data": {
      "text/plain": [
       "torch.Size([4665, 257])"
      ]
     },
     "execution_count": 390,
     "metadata": {},
     "output_type": "execute_result"
    }
   ],
   "source": [
    "train_data.size()"
   ]
  },
  {
   "cell_type": "code",
   "execution_count": 391,
   "metadata": {},
   "outputs": [
    {
     "data": {
      "text/plain": [
       "1198905"
      ]
     },
     "execution_count": 391,
     "metadata": {},
     "output_type": "execute_result"
    }
   ],
   "source": [
    "4665*257"
   ]
  },
  {
   "cell_type": "code",
   "execution_count": 392,
   "metadata": {},
   "outputs": [
    {
     "data": {
      "text/plain": [
       "1198905"
      ]
     },
     "execution_count": 392,
     "metadata": {},
     "output_type": "execute_result"
    }
   ],
   "source": [
    "train_data.nelement()"
   ]
  },
  {
   "cell_type": "code",
   "execution_count": 432,
   "metadata": {},
   "outputs": [
    {
     "data": {
      "text/plain": [
       "tensor([1706, 1170, 2342,  ..., 2105, 2125, 3992])"
      ]
     },
     "execution_count": 432,
     "metadata": {},
     "output_type": "execute_result"
    }
   ],
   "source": [
    "idx =  torch.randperm(train_data.size()[0])\n",
    "idx"
   ]
  },
  {
   "cell_type": "code",
   "execution_count": 434,
   "metadata": {},
   "outputs": [
    {
     "data": {
      "text/plain": [
       "torch.Size([4665, 257])"
      ]
     },
     "execution_count": 434,
     "metadata": {},
     "output_type": "execute_result"
    }
   ],
   "source": [
    "train_data[idx,:].size()"
   ]
  },
  {
   "cell_type": "code",
   "execution_count": 435,
   "metadata": {},
   "outputs": [
    {
     "data": {
      "text/plain": [
       "tensor([[-1., -1., -1.,  ..., -1., -1.,  2.],\n",
       "        [-1., -1., -1.,  ..., -1., -1.,  8.],\n",
       "        [-1., -1., -1.,  ..., -1., -1.,  0.],\n",
       "        [-1., -1., -1.,  ..., -1., -1.,  1.],\n",
       "        [-1., -1., -1.,  ..., -1., -1.,  4.]])"
      ]
     },
     "execution_count": 435,
     "metadata": {},
     "output_type": "execute_result"
    }
   ],
   "source": [
    "train_data[idx,:][:5, :]"
   ]
  },
  {
   "cell_type": "code",
   "execution_count": null,
   "metadata": {},
   "outputs": [],
   "source": []
  },
  {
   "cell_type": "code",
   "execution_count": null,
   "metadata": {},
   "outputs": [],
   "source": []
  },
  {
   "cell_type": "code",
   "execution_count": 396,
   "metadata": {},
   "outputs": [
    {
     "data": {
      "text/plain": [
       "torch.Size([4665])"
      ]
     },
     "execution_count": 396,
     "metadata": {},
     "output_type": "execute_result"
    }
   ],
   "source": [
    "y_train.size()"
   ]
  },
  {
   "cell_type": "code",
   "execution_count": 476,
   "metadata": {},
   "outputs": [
    {
     "name": "stdout",
     "output_type": "stream",
     "text": [
      "tensor([2513, 3222, 1190,  ...,  598, 2233, 3813])\n"
     ]
    }
   ],
   "source": [
    "X_train_mini, y_train_mini = get_mini_batching(X_train, y_train, 5)"
   ]
  },
  {
   "cell_type": "code",
   "execution_count": 477,
   "metadata": {},
   "outputs": [
    {
     "data": {
      "text/plain": [
       "tensor([0., 3., 3., 2., 0.])"
      ]
     },
     "execution_count": 477,
     "metadata": {},
     "output_type": "execute_result"
    }
   ],
   "source": [
    "y_train_mini"
   ]
  },
  {
   "cell_type": "code",
   "execution_count": 475,
   "metadata": {},
   "outputs": [
    {
     "data": {
      "text/plain": [
       "tensor([[-1., -1., -1.,  ..., -1., -1., -1.],\n",
       "        [-1., -1., -1.,  ..., -1., -1., -1.],\n",
       "        [-1., -1., -1.,  ..., -1., -1., -1.],\n",
       "        [-1., -1., -1.,  ..., -1., -1., -1.],\n",
       "        [-1., -1., -1.,  ..., -1., -1., -1.]])"
      ]
     },
     "execution_count": 475,
     "metadata": {},
     "output_type": "execute_result"
    }
   ],
   "source": [
    "X_train_mini"
   ]
  },
  {
   "cell_type": "code",
   "execution_count": 427,
   "metadata": {},
   "outputs": [
    {
     "data": {
      "text/plain": [
       "torch.Size([5, 256])"
      ]
     },
     "execution_count": 427,
     "metadata": {},
     "output_type": "execute_result"
    }
   ],
   "source": [
    "X_train_mini.size()"
   ]
  },
  {
   "cell_type": "code",
   "execution_count": 428,
   "metadata": {},
   "outputs": [
    {
     "data": {
      "text/plain": [
       "torch.Size([5])"
      ]
     },
     "execution_count": 428,
     "metadata": {},
     "output_type": "execute_result"
    }
   ],
   "source": [
    "y_train_mini.size()"
   ]
  },
  {
   "cell_type": "code",
   "execution_count": 429,
   "metadata": {},
   "outputs": [
    {
     "data": {
      "text/plain": [
       "tensor([9., 2., 2., 2., 9.])"
      ]
     },
     "execution_count": 429,
     "metadata": {},
     "output_type": "execute_result"
    }
   ],
   "source": [
    "y_train_mini"
   ]
  },
  {
   "cell_type": "code",
   "execution_count": 419,
   "metadata": {},
   "outputs": [
    {
     "data": {
      "text/plain": [
       "tensor([9., 0., 8., 2., 1.])"
      ]
     },
     "execution_count": 419,
     "metadata": {},
     "output_type": "execute_result"
    }
   ],
   "source": [
    "y_train_mini"
   ]
  },
  {
   "cell_type": "code",
   "execution_count": 420,
   "metadata": {},
   "outputs": [
    {
     "data": {
      "text/plain": [
       "tensor([[-1., -1., -1.,  ..., -1., -1., -1.],\n",
       "        [-1., -1., -1.,  ..., -1., -1., -1.],\n",
       "        [-1., -1., -1.,  ..., -1., -1., -1.],\n",
       "        [-1., -1., -1.,  ..., -1., -1., -1.],\n",
       "        [-1., -1., -1.,  ..., -1., -1., -1.]])"
      ]
     },
     "execution_count": 420,
     "metadata": {},
     "output_type": "execute_result"
    }
   ],
   "source": [
    "X_train_mini"
   ]
  },
  {
   "cell_type": "code",
   "execution_count": 414,
   "metadata": {},
   "outputs": [
    {
     "name": "stdout",
     "output_type": "stream",
     "text": [
      "CPU times: user 14.1 s, sys: 2.17 s, total: 16.3 s\n",
      "Wall time: 16.1 s\n"
     ]
    }
   ],
   "source": [
    "%%time\n",
    "loss_hist = []\n",
    "\n",
    "\n",
    "mini_batch_size = 100\n",
    "# Train\n",
    "for t in range(5000):\n",
    "    # Berechne die Vorhersage (foward step)\n",
    "    X_train_mini, y_train_mini = get_mini_batching(X_train, y_train, mini_batch_size)\n",
    "    \n",
    "    outputs = model(X_train_mini)\n",
    "\n",
    "    \n",
    "    # Berechne den Fehler (Ausgabe des Fehlers alle 50 Iterationen)\n",
    "    loss = criterion(outputs, y_train_mini.long())\n",
    "    \n",
    "    # Berechne die Gradienten und Aktualisiere die Gewichte (backward step)\n",
    "    optimizer.zero_grad()\n",
    "    loss.backward()\n",
    "    optimizer.step()\n",
    "\n",
    "    # Berechne den Fehler (Ausgabe des Fehlers alle 100 Iterationen)\n",
    "    #if t % 50 == 0:\n",
    "    #    loss_hist.append(loss.item())\n",
    "    #    print(t, loss.item())"
   ]
  },
  {
   "cell_type": "code",
   "execution_count": null,
   "metadata": {},
   "outputs": [],
   "source": []
  },
  {
   "cell_type": "code",
   "execution_count": 412,
   "metadata": {},
   "outputs": [
    {
     "ename": "ValueError",
     "evalue": "Expected input batch_size (100) to match target batch_size (4665).",
     "output_type": "error",
     "traceback": [
      "\u001b[0;31m---------------------------------------------------------------------------\u001b[0m",
      "\u001b[0;31mValueError\u001b[0m                                Traceback (most recent call last)",
      "\u001b[0;32m<ipython-input-412-8ba86d868361>\u001b[0m in \u001b[0;36m<module>\u001b[0;34m\u001b[0m\n\u001b[0;32m----> 1\u001b[0;31m \u001b[0mloss\u001b[0m \u001b[0;34m=\u001b[0m \u001b[0mcriterion\u001b[0m\u001b[0;34m(\u001b[0m\u001b[0moutputs\u001b[0m\u001b[0;34m,\u001b[0m \u001b[0my_train\u001b[0m\u001b[0;34m.\u001b[0m\u001b[0mlong\u001b[0m\u001b[0;34m(\u001b[0m\u001b[0;34m)\u001b[0m\u001b[0;34m)\u001b[0m\u001b[0;34m\u001b[0m\u001b[0;34m\u001b[0m\u001b[0m\n\u001b[0m",
      "\u001b[0;32m~/anaconda3/envs/my_voice_predictor/lib/python3.6/site-packages/torch/nn/modules/module.py\u001b[0m in \u001b[0;36m__call__\u001b[0;34m(self, *input, **kwargs)\u001b[0m\n\u001b[1;32m    487\u001b[0m             \u001b[0mresult\u001b[0m \u001b[0;34m=\u001b[0m \u001b[0mself\u001b[0m\u001b[0;34m.\u001b[0m\u001b[0m_slow_forward\u001b[0m\u001b[0;34m(\u001b[0m\u001b[0;34m*\u001b[0m\u001b[0minput\u001b[0m\u001b[0;34m,\u001b[0m \u001b[0;34m**\u001b[0m\u001b[0mkwargs\u001b[0m\u001b[0;34m)\u001b[0m\u001b[0;34m\u001b[0m\u001b[0;34m\u001b[0m\u001b[0m\n\u001b[1;32m    488\u001b[0m         \u001b[0;32melse\u001b[0m\u001b[0;34m:\u001b[0m\u001b[0;34m\u001b[0m\u001b[0;34m\u001b[0m\u001b[0m\n\u001b[0;32m--> 489\u001b[0;31m             \u001b[0mresult\u001b[0m \u001b[0;34m=\u001b[0m \u001b[0mself\u001b[0m\u001b[0;34m.\u001b[0m\u001b[0mforward\u001b[0m\u001b[0;34m(\u001b[0m\u001b[0;34m*\u001b[0m\u001b[0minput\u001b[0m\u001b[0;34m,\u001b[0m \u001b[0;34m**\u001b[0m\u001b[0mkwargs\u001b[0m\u001b[0;34m)\u001b[0m\u001b[0;34m\u001b[0m\u001b[0;34m\u001b[0m\u001b[0m\n\u001b[0m\u001b[1;32m    490\u001b[0m         \u001b[0;32mfor\u001b[0m \u001b[0mhook\u001b[0m \u001b[0;32min\u001b[0m \u001b[0mself\u001b[0m\u001b[0;34m.\u001b[0m\u001b[0m_forward_hooks\u001b[0m\u001b[0;34m.\u001b[0m\u001b[0mvalues\u001b[0m\u001b[0;34m(\u001b[0m\u001b[0;34m)\u001b[0m\u001b[0;34m:\u001b[0m\u001b[0;34m\u001b[0m\u001b[0;34m\u001b[0m\u001b[0m\n\u001b[1;32m    491\u001b[0m             \u001b[0mhook_result\u001b[0m \u001b[0;34m=\u001b[0m \u001b[0mhook\u001b[0m\u001b[0;34m(\u001b[0m\u001b[0mself\u001b[0m\u001b[0;34m,\u001b[0m \u001b[0minput\u001b[0m\u001b[0;34m,\u001b[0m \u001b[0mresult\u001b[0m\u001b[0;34m)\u001b[0m\u001b[0;34m\u001b[0m\u001b[0;34m\u001b[0m\u001b[0m\n",
      "\u001b[0;32m~/anaconda3/envs/my_voice_predictor/lib/python3.6/site-packages/torch/nn/modules/loss.py\u001b[0m in \u001b[0;36mforward\u001b[0;34m(self, input, target)\u001b[0m\n\u001b[1;32m    902\u001b[0m     \u001b[0;32mdef\u001b[0m \u001b[0mforward\u001b[0m\u001b[0;34m(\u001b[0m\u001b[0mself\u001b[0m\u001b[0;34m,\u001b[0m \u001b[0minput\u001b[0m\u001b[0;34m,\u001b[0m \u001b[0mtarget\u001b[0m\u001b[0;34m)\u001b[0m\u001b[0;34m:\u001b[0m\u001b[0;34m\u001b[0m\u001b[0;34m\u001b[0m\u001b[0m\n\u001b[1;32m    903\u001b[0m         return F.cross_entropy(input, target, weight=self.weight,\n\u001b[0;32m--> 904\u001b[0;31m                                ignore_index=self.ignore_index, reduction=self.reduction)\n\u001b[0m\u001b[1;32m    905\u001b[0m \u001b[0;34m\u001b[0m\u001b[0m\n\u001b[1;32m    906\u001b[0m \u001b[0;34m\u001b[0m\u001b[0m\n",
      "\u001b[0;32m~/anaconda3/envs/my_voice_predictor/lib/python3.6/site-packages/torch/nn/functional.py\u001b[0m in \u001b[0;36mcross_entropy\u001b[0;34m(input, target, weight, size_average, ignore_index, reduce, reduction)\u001b[0m\n\u001b[1;32m   1968\u001b[0m     \u001b[0;32mif\u001b[0m \u001b[0msize_average\u001b[0m \u001b[0;32mis\u001b[0m \u001b[0;32mnot\u001b[0m \u001b[0;32mNone\u001b[0m \u001b[0;32mor\u001b[0m \u001b[0mreduce\u001b[0m \u001b[0;32mis\u001b[0m \u001b[0;32mnot\u001b[0m \u001b[0;32mNone\u001b[0m\u001b[0;34m:\u001b[0m\u001b[0;34m\u001b[0m\u001b[0;34m\u001b[0m\u001b[0m\n\u001b[1;32m   1969\u001b[0m         \u001b[0mreduction\u001b[0m \u001b[0;34m=\u001b[0m \u001b[0m_Reduction\u001b[0m\u001b[0;34m.\u001b[0m\u001b[0mlegacy_get_string\u001b[0m\u001b[0;34m(\u001b[0m\u001b[0msize_average\u001b[0m\u001b[0;34m,\u001b[0m \u001b[0mreduce\u001b[0m\u001b[0;34m)\u001b[0m\u001b[0;34m\u001b[0m\u001b[0;34m\u001b[0m\u001b[0m\n\u001b[0;32m-> 1970\u001b[0;31m     \u001b[0;32mreturn\u001b[0m \u001b[0mnll_loss\u001b[0m\u001b[0;34m(\u001b[0m\u001b[0mlog_softmax\u001b[0m\u001b[0;34m(\u001b[0m\u001b[0minput\u001b[0m\u001b[0;34m,\u001b[0m \u001b[0;36m1\u001b[0m\u001b[0;34m)\u001b[0m\u001b[0;34m,\u001b[0m \u001b[0mtarget\u001b[0m\u001b[0;34m,\u001b[0m \u001b[0mweight\u001b[0m\u001b[0;34m,\u001b[0m \u001b[0;32mNone\u001b[0m\u001b[0;34m,\u001b[0m \u001b[0mignore_index\u001b[0m\u001b[0;34m,\u001b[0m \u001b[0;32mNone\u001b[0m\u001b[0;34m,\u001b[0m \u001b[0mreduction\u001b[0m\u001b[0;34m)\u001b[0m\u001b[0;34m\u001b[0m\u001b[0;34m\u001b[0m\u001b[0m\n\u001b[0m\u001b[1;32m   1971\u001b[0m \u001b[0;34m\u001b[0m\u001b[0m\n\u001b[1;32m   1972\u001b[0m \u001b[0;34m\u001b[0m\u001b[0m\n",
      "\u001b[0;32m~/anaconda3/envs/my_voice_predictor/lib/python3.6/site-packages/torch/nn/functional.py\u001b[0m in \u001b[0;36mnll_loss\u001b[0;34m(input, target, weight, size_average, ignore_index, reduce, reduction)\u001b[0m\n\u001b[1;32m   1786\u001b[0m     \u001b[0;32mif\u001b[0m \u001b[0minput\u001b[0m\u001b[0;34m.\u001b[0m\u001b[0msize\u001b[0m\u001b[0;34m(\u001b[0m\u001b[0;36m0\u001b[0m\u001b[0;34m)\u001b[0m \u001b[0;34m!=\u001b[0m \u001b[0mtarget\u001b[0m\u001b[0;34m.\u001b[0m\u001b[0msize\u001b[0m\u001b[0;34m(\u001b[0m\u001b[0;36m0\u001b[0m\u001b[0;34m)\u001b[0m\u001b[0;34m:\u001b[0m\u001b[0;34m\u001b[0m\u001b[0;34m\u001b[0m\u001b[0m\n\u001b[1;32m   1787\u001b[0m         raise ValueError('Expected input batch_size ({}) to match target batch_size ({}).'\n\u001b[0;32m-> 1788\u001b[0;31m                          .format(input.size(0), target.size(0)))\n\u001b[0m\u001b[1;32m   1789\u001b[0m     \u001b[0;32mif\u001b[0m \u001b[0mdim\u001b[0m \u001b[0;34m==\u001b[0m \u001b[0;36m2\u001b[0m\u001b[0;34m:\u001b[0m\u001b[0;34m\u001b[0m\u001b[0;34m\u001b[0m\u001b[0m\n\u001b[1;32m   1790\u001b[0m         \u001b[0mret\u001b[0m \u001b[0;34m=\u001b[0m \u001b[0mtorch\u001b[0m\u001b[0;34m.\u001b[0m\u001b[0m_C\u001b[0m\u001b[0;34m.\u001b[0m\u001b[0m_nn\u001b[0m\u001b[0;34m.\u001b[0m\u001b[0mnll_loss\u001b[0m\u001b[0;34m(\u001b[0m\u001b[0minput\u001b[0m\u001b[0;34m,\u001b[0m \u001b[0mtarget\u001b[0m\u001b[0;34m,\u001b[0m \u001b[0mweight\u001b[0m\u001b[0;34m,\u001b[0m \u001b[0m_Reduction\u001b[0m\u001b[0;34m.\u001b[0m\u001b[0mget_enum\u001b[0m\u001b[0;34m(\u001b[0m\u001b[0mreduction\u001b[0m\u001b[0;34m)\u001b[0m\u001b[0;34m,\u001b[0m \u001b[0mignore_index\u001b[0m\u001b[0;34m)\u001b[0m\u001b[0;34m\u001b[0m\u001b[0;34m\u001b[0m\u001b[0m\n",
      "\u001b[0;31mValueError\u001b[0m: Expected input batch_size (100) to match target batch_size (4665)."
     ]
    }
   ],
   "source": [
    "loss = criterion(outputs, y_train.long())"
   ]
  },
  {
   "cell_type": "code",
   "execution_count": 413,
   "metadata": {},
   "outputs": [
    {
     "data": {
      "text/plain": [
       "[<matplotlib.lines.Line2D at 0x12144be10>]"
      ]
     },
     "execution_count": 413,
     "metadata": {},
     "output_type": "execute_result"
    },
    {
     "data": {
      "image/png": "[encoded data removed]",
      "text/plain": [
       "<Figure size 432x288 with 1 Axes>"
      ]
     },
     "metadata": {
      "needs_background": "light"
     },
     "output_type": "display_data"
    }
   ],
   "source": [
    "plt.plot(loss_hist)"
   ]
  },
  {
   "cell_type": "code",
   "execution_count": 199,
   "metadata": {},
   "outputs": [
    {
     "data": {
      "text/plain": [
       "torch.Size([4665, 10])"
      ]
     },
     "execution_count": 199,
     "metadata": {},
     "output_type": "execute_result"
    }
   ],
   "source": [
    "outputs.size()"
   ]
  },
  {
   "cell_type": "code",
   "execution_count": 200,
   "metadata": {},
   "outputs": [],
   "source": [
    "y_pred = model(X_test)"
   ]
  },
  {
   "cell_type": "code",
   "execution_count": 201,
   "metadata": {},
   "outputs": [],
   "source": [
    "x = X_test[0,:]"
   ]
  },
  {
   "cell_type": "code",
   "execution_count": 202,
   "metadata": {},
   "outputs": [
    {
     "data": {
      "text/plain": [
       "tensor([[-1.0000],\n",
       "        [-1.0000],\n",
       "        [-1.0000],\n",
       "        [-0.9790],\n",
       "        [ 0.7640],\n",
       "        [ 0.5040],\n",
       "        [-0.5610],\n",
       "        [-0.4670],\n",
       "        [-0.0460],\n",
       "        [-0.1250],\n",
       "        [ 0.2190],\n",
       "        [ 0.7730],\n",
       "        [ 0.5420],\n",
       "        [-0.8140],\n",
       "        [-1.0000],\n",
       "        [-1.0000],\n",
       "        [-1.0000],\n",
       "        [-1.0000],\n",
       "        [-0.9790],\n",
       "        [ 0.2570],\n",
       "        [ 0.9630],\n",
       "        [ 1.0000],\n",
       "        [ 1.0000],\n",
       "        [ 1.0000],\n",
       "        [ 1.0000],\n",
       "        [ 1.0000],\n",
       "        [ 1.0000],\n",
       "        [ 1.0000],\n",
       "        [ 1.0000],\n",
       "        [ 0.1650],\n",
       "        [-1.0000],\n",
       "        [-1.0000],\n",
       "        [-1.0000],\n",
       "        [-1.0000],\n",
       "        [-0.1120],\n",
       "        [ 1.0000],\n",
       "        [ 1.0000],\n",
       "        [ 1.0000],\n",
       "        [ 1.0000],\n",
       "        [ 1.0000],\n",
       "        [ 1.0000],\n",
       "        [ 1.0000],\n",
       "        [ 1.0000],\n",
       "        [ 1.0000],\n",
       "        [ 1.0000],\n",
       "        [ 0.1740],\n",
       "        [-1.0000],\n",
       "        [-1.0000],\n",
       "        [-1.0000],\n",
       "        [-1.0000],\n",
       "        [ 0.2030],\n",
       "        [ 1.0000],\n",
       "        [ 0.9720],\n",
       "        [ 0.4730],\n",
       "        [ 0.0250],\n",
       "        [-0.4250],\n",
       "        [-0.7560],\n",
       "        [-0.4550],\n",
       "        [ 1.0000],\n",
       "        [ 1.0000],\n",
       "        [ 0.9200],\n",
       "        [-0.6310],\n",
       "        [-1.0000],\n",
       "        [-1.0000],\n",
       "        [-1.0000],\n",
       "        [-1.0000],\n",
       "        [-0.4790],\n",
       "        [ 0.9110],\n",
       "        [ 0.2040],\n",
       "        [-1.0000],\n",
       "        [-1.0000],\n",
       "        [-1.0000],\n",
       "        [-1.0000],\n",
       "        [-0.5960],\n",
       "        [ 0.9980],\n",
       "        [ 1.0000],\n",
       "        [ 0.3650],\n",
       "        [-1.0000],\n",
       "        [-1.0000],\n",
       "        [-1.0000],\n",
       "        [-1.0000],\n",
       "        [-1.0000],\n",
       "        [-1.0000],\n",
       "        [-0.8810],\n",
       "        [-0.9470],\n",
       "        [-1.0000],\n",
       "        [-1.0000],\n",
       "        [-1.0000],\n",
       "        [-1.0000],\n",
       "        [-0.0540],\n",
       "        [ 1.0000],\n",
       "        [ 1.0000],\n",
       "        [-0.1770],\n",
       "        [-1.0000],\n",
       "        [-1.0000],\n",
       "        [-1.0000],\n",
       "        [-1.0000],\n",
       "        [-1.0000],\n",
       "        [-1.0000],\n",
       "        [-1.0000],\n",
       "        [-1.0000],\n",
       "        [-1.0000],\n",
       "        [-1.0000],\n",
       "        [-1.0000],\n",
       "        [-0.9970],\n",
       "        [ 0.7320],\n",
       "        [ 1.0000],\n",
       "        [ 0.8910],\n",
       "        [-0.8590],\n",
       "        [-1.0000],\n",
       "        [-1.0000],\n",
       "        [-1.0000],\n",
       "        [-1.0000],\n",
       "        [-1.0000],\n",
       "        [-1.0000],\n",
       "        [-1.0000],\n",
       "        [-1.0000],\n",
       "        [-1.0000],\n",
       "        [-1.0000],\n",
       "        [-1.0000],\n",
       "        [-0.2180],\n",
       "        [ 0.9920],\n",
       "        [ 1.0000],\n",
       "        [ 0.4510],\n",
       "        [-1.0000],\n",
       "        [-1.0000],\n",
       "        [-1.0000],\n",
       "        [-1.0000],\n",
       "        [-1.0000],\n",
       "        [-1.0000],\n",
       "        [-1.0000],\n",
       "        [-1.0000],\n",
       "        [-1.0000],\n",
       "        [-1.0000],\n",
       "        [-1.0000],\n",
       "        [-0.9870],\n",
       "        [ 0.5510],\n",
       "        [ 1.0000],\n",
       "        [ 0.9930],\n",
       "        [-0.3130],\n",
       "        [-1.0000],\n",
       "        [-1.0000],\n",
       "        [-1.0000],\n",
       "        [-1.0000],\n",
       "        [-1.0000],\n",
       "        [-1.0000],\n",
       "        [-1.0000],\n",
       "        [-1.0000],\n",
       "        [-1.0000],\n",
       "        [-1.0000],\n",
       "        [-1.0000],\n",
       "        [-0.5510],\n",
       "        [ 1.0000],\n",
       "        [ 1.0000],\n",
       "        [ 0.7810],\n",
       "        [-0.9860],\n",
       "        [-1.0000],\n",
       "        [-1.0000],\n",
       "        [-1.0000],\n",
       "        [-1.0000],\n",
       "        [-1.0000],\n",
       "        [-1.0000],\n",
       "        [-1.0000],\n",
       "        [-1.0000],\n",
       "        [-1.0000],\n",
       "        [-1.0000],\n",
       "        [-1.0000],\n",
       "        [-0.0650],\n",
       "        [ 1.0000],\n",
       "        [ 1.0000],\n",
       "        [ 0.6710],\n",
       "        [-1.0000],\n",
       "        [-1.0000],\n",
       "        [-1.0000],\n",
       "        [-1.0000],\n",
       "        [-1.0000],\n",
       "        [-1.0000],\n",
       "        [-1.0000],\n",
       "        [-1.0000],\n",
       "        [-1.0000],\n",
       "        [-1.0000],\n",
       "        [-1.0000],\n",
       "        [-0.8280],\n",
       "        [ 0.9150],\n",
       "        [ 1.0000],\n",
       "        [ 1.0000],\n",
       "        [-0.2910],\n",
       "        [-1.0000],\n",
       "        [-1.0000],\n",
       "        [-1.0000],\n",
       "        [-1.0000],\n",
       "        [-1.0000],\n",
       "        [-1.0000],\n",
       "        [-1.0000],\n",
       "        [-1.0000],\n",
       "        [-1.0000],\n",
       "        [-1.0000],\n",
       "        [-1.0000],\n",
       "        [-0.0850],\n",
       "        [ 1.0000],\n",
       "        [ 1.0000],\n",
       "        [ 0.6140],\n",
       "        [-0.9810],\n",
       "        [-1.0000],\n",
       "        [-1.0000],\n",
       "        [-1.0000],\n",
       "        [-1.0000],\n",
       "        [-1.0000],\n",
       "        [-1.0000],\n",
       "        [-1.0000],\n",
       "        [-1.0000],\n",
       "        [-1.0000],\n",
       "        [-1.0000],\n",
       "        [-1.0000],\n",
       "        [ 0.4200],\n",
       "        [ 1.0000],\n",
       "        [ 1.0000],\n",
       "        [-0.1760],\n",
       "        [-1.0000],\n",
       "        [-1.0000],\n",
       "        [-1.0000],\n",
       "        [-1.0000],\n",
       "        [-1.0000],\n",
       "        [-1.0000],\n",
       "        [-1.0000],\n",
       "        [-1.0000],\n",
       "        [-1.0000],\n",
       "        [-1.0000],\n",
       "        [-1.0000],\n",
       "        [-0.9860],\n",
       "        [ 0.8340],\n",
       "        [ 1.0000],\n",
       "        [ 0.8270],\n",
       "        [-0.8700],\n",
       "        [-1.0000],\n",
       "        [-1.0000],\n",
       "        [-1.0000],\n",
       "        [-1.0000],\n",
       "        [-1.0000],\n",
       "        [-1.0000],\n",
       "        [-1.0000],\n",
       "        [-1.0000],\n",
       "        [-1.0000],\n",
       "        [-1.0000],\n",
       "        [-1.0000],\n",
       "        [-1.0000],\n",
       "        [ 0.0580],\n",
       "        [ 1.0000],\n",
       "        [ 0.1860],\n",
       "        [-1.0000],\n",
       "        [-1.0000],\n",
       "        [-1.0000],\n",
       "        [-1.0000],\n",
       "        [-1.0000],\n",
       "        [-1.0000],\n",
       "        [-1.0000]])"
      ]
     },
     "execution_count": 202,
     "metadata": {},
     "output_type": "execute_result"
    }
   ],
   "source": [
    "x.view(len(x), 1)"
   ]
  },
  {
   "cell_type": "code",
   "execution_count": 203,
   "metadata": {},
   "outputs": [
    {
     "data": {
      "text/plain": [
       "torch.Size([1167, 10])"
      ]
     },
     "execution_count": 203,
     "metadata": {},
     "output_type": "execute_result"
    }
   ],
   "source": [
    "y_pred.size()"
   ]
  },
  {
   "cell_type": "code",
   "execution_count": 204,
   "metadata": {},
   "outputs": [
    {
     "data": {
      "text/plain": [
       "tensor([-6.4775, -3.9660, -3.3709,  3.2512,  4.1269, -2.2671, -9.8270,  3.3184,\n",
       "         3.3329, 11.2939], grad_fn=<SliceBackward>)"
      ]
     },
     "execution_count": 204,
     "metadata": {},
     "output_type": "execute_result"
    }
   ],
   "source": [
    "y_pred[1,:]"
   ]
  },
  {
   "cell_type": "code",
   "execution_count": 205,
   "metadata": {},
   "outputs": [
    {
     "data": {
      "text/plain": [
       "tensor(-9.8270, grad_fn=<MinBackward1>)"
      ]
     },
     "execution_count": 205,
     "metadata": {},
     "output_type": "execute_result"
    }
   ],
   "source": [
    "y_pred[1,:].min()"
   ]
  },
  {
   "cell_type": "code",
   "execution_count": 206,
   "metadata": {},
   "outputs": [
    {
     "data": {
      "text/plain": [
       "tensor(11.2939, grad_fn=<MaxBackward1>)"
      ]
     },
     "execution_count": 206,
     "metadata": {},
     "output_type": "execute_result"
    }
   ],
   "source": [
    "y_pred[1,:].max()"
   ]
  },
  {
   "cell_type": "code",
   "execution_count": null,
   "metadata": {},
   "outputs": [],
   "source": []
  },
  {
   "cell_type": "code",
   "execution_count": 207,
   "metadata": {},
   "outputs": [
    {
     "data": {
      "text/plain": [
       "tensor(-0.5851, grad_fn=<SumBackward0>)"
      ]
     },
     "execution_count": 207,
     "metadata": {},
     "output_type": "execute_result"
    }
   ],
   "source": [
    "y_pred[1,:].sum()"
   ]
  },
  {
   "cell_type": "code",
   "execution_count": 208,
   "metadata": {},
   "outputs": [
    {
     "data": {
      "text/plain": [
       "0.22793680429458618"
      ]
     },
     "execution_count": 208,
     "metadata": {},
     "output_type": "execute_result"
    }
   ],
   "source": [
    "criterion(y_pred, y_test.long()).item()"
   ]
  },
  {
   "cell_type": "code",
   "execution_count": null,
   "metadata": {},
   "outputs": [],
   "source": []
  },
  {
   "cell_type": "code",
   "execution_count": 209,
   "metadata": {},
   "outputs": [
    {
     "name": "stderr",
     "output_type": "stream",
     "text": [
      "/Users/raroito/anaconda3/envs/my_voice_predictor/lib/python3.6/site-packages/ipykernel_launcher.py:2: UserWarning: Implicit dimension choice for softmax has been deprecated. Change the call to include dim=X as an argument.\n",
      "  \n"
     ]
    },
    {
     "data": {
      "text/plain": [
       "tensor([7, 9, 7,  ..., 2, 6, 5])"
      ]
     },
     "execution_count": 209,
     "metadata": {},
     "output_type": "execute_result"
    }
   ],
   "source": [
    "softmax = torch.nn.Softmax()\n",
    "y_pred = softmax(y_pred).argmax(1)\n",
    "y_pred"
   ]
  },
  {
   "cell_type": "code",
   "execution_count": 210,
   "metadata": {},
   "outputs": [
    {
     "name": "stdout",
     "output_type": "stream",
     "text": [
      "tensor([[-1.0000, -1.0000, -1.0000, -0.9790,  0.7640,  0.5040, -0.5610, -0.4670,\n",
      "         -0.0460, -0.1250,  0.2190,  0.7730,  0.5420, -0.8140, -1.0000, -1.0000,\n",
      "         -1.0000, -1.0000, -0.9790,  0.2570,  0.9630,  1.0000,  1.0000,  1.0000,\n",
      "          1.0000,  1.0000,  1.0000,  1.0000,  1.0000,  0.1650, -1.0000, -1.0000,\n",
      "         -1.0000, -1.0000, -0.1120,  1.0000,  1.0000,  1.0000,  1.0000,  1.0000,\n",
      "          1.0000,  1.0000,  1.0000,  1.0000,  1.0000,  0.1740, -1.0000, -1.0000,\n",
      "         -1.0000, -1.0000,  0.2030,  1.0000,  0.9720,  0.4730,  0.0250, -0.4250,\n",
      "         -0.7560, -0.4550,  1.0000,  1.0000,  0.9200, -0.6310, -1.0000, -1.0000,\n",
      "         -1.0000, -1.0000, -0.4790,  0.9110,  0.2040, -1.0000, -1.0000, -1.0000,\n",
      "         -1.0000, -0.5960,  0.9980,  1.0000,  0.3650, -1.0000, -1.0000, -1.0000,\n",
      "         -1.0000, -1.0000, -1.0000, -0.8810, -0.9470, -1.0000, -1.0000, -1.0000,\n",
      "         -1.0000, -0.0540,  1.0000,  1.0000, -0.1770, -1.0000, -1.0000, -1.0000,\n",
      "         -1.0000, -1.0000, -1.0000, -1.0000, -1.0000, -1.0000, -1.0000, -1.0000,\n",
      "         -0.9970,  0.7320,  1.0000,  0.8910, -0.8590, -1.0000, -1.0000, -1.0000,\n",
      "         -1.0000, -1.0000, -1.0000, -1.0000, -1.0000, -1.0000, -1.0000, -1.0000,\n",
      "         -0.2180,  0.9920,  1.0000,  0.4510, -1.0000, -1.0000, -1.0000, -1.0000,\n",
      "         -1.0000, -1.0000, -1.0000, -1.0000, -1.0000, -1.0000, -1.0000, -0.9870,\n",
      "          0.5510,  1.0000,  0.9930, -0.3130, -1.0000, -1.0000, -1.0000, -1.0000,\n",
      "         -1.0000, -1.0000, -1.0000, -1.0000, -1.0000, -1.0000, -1.0000, -0.5510,\n",
      "          1.0000,  1.0000,  0.7810, -0.9860, -1.0000, -1.0000, -1.0000, -1.0000,\n",
      "         -1.0000, -1.0000, -1.0000, -1.0000, -1.0000, -1.0000, -1.0000, -0.0650,\n",
      "          1.0000,  1.0000,  0.6710, -1.0000, -1.0000, -1.0000, -1.0000, -1.0000,\n",
      "         -1.0000, -1.0000, -1.0000, -1.0000, -1.0000, -1.0000, -0.8280,  0.9150,\n",
      "          1.0000,  1.0000, -0.2910, -1.0000, -1.0000, -1.0000, -1.0000, -1.0000,\n",
      "         -1.0000, -1.0000, -1.0000, -1.0000, -1.0000, -1.0000, -0.0850,  1.0000,\n",
      "          1.0000,  0.6140, -0.9810, -1.0000, -1.0000, -1.0000, -1.0000, -1.0000,\n",
      "         -1.0000, -1.0000, -1.0000, -1.0000, -1.0000, -1.0000,  0.4200,  1.0000,\n",
      "          1.0000, -0.1760, -1.0000, -1.0000, -1.0000, -1.0000, -1.0000, -1.0000,\n",
      "         -1.0000, -1.0000, -1.0000, -1.0000, -1.0000, -0.9860,  0.8340,  1.0000,\n",
      "          0.8270, -0.8700, -1.0000, -1.0000, -1.0000, -1.0000, -1.0000, -1.0000,\n",
      "         -1.0000, -1.0000, -1.0000, -1.0000, -1.0000, -1.0000,  0.0580,  1.0000,\n",
      "          0.1860, -1.0000, -1.0000, -1.0000, -1.0000, -1.0000, -1.0000, -1.0000]])\n"
     ]
    }
   ],
   "source": [
    "x = X_test[0:1,:]\n",
    "print(x)\n"
   ]
  },
  {
   "cell_type": "code",
   "execution_count": 211,
   "metadata": {},
   "outputs": [
    {
     "name": "stderr",
     "output_type": "stream",
     "text": [
      "/Users/raroito/anaconda3/envs/my_voice_predictor/lib/python3.6/site-packages/ipykernel_launcher.py:2: UserWarning: Implicit dimension choice for softmax has been deprecated. Change the call to include dim=X as an argument.\n",
      "  \n"
     ]
    },
    {
     "data": {
      "text/plain": [
       "tensor([7])"
      ]
     },
     "execution_count": 211,
     "metadata": {},
     "output_type": "execute_result"
    }
   ],
   "source": [
    "\n",
    "y_pred = softmax(model(x)).argmax(1)\n",
    "y_pred"
   ]
  },
  {
   "cell_type": "code",
   "execution_count": 183,
   "metadata": {},
   "outputs": [
    {
     "data": {
      "text/plain": [
       "5.0"
      ]
     },
     "execution_count": 183,
     "metadata": {},
     "output_type": "execute_result"
    }
   ],
   "source": [
    "y_test[1].item()"
   ]
  },
  {
   "cell_type": "code",
   "execution_count": 185,
   "metadata": {},
   "outputs": [
    {
     "ename": "TypeError",
     "evalue": "imread() missing 1 required positional argument: 'fname'",
     "output_type": "error",
     "traceback": [
      "\u001b[0;31m---------------------------------------------------------------------------\u001b[0m",
      "\u001b[0;31mTypeError\u001b[0m                                 Traceback (most recent call last)",
      "\u001b[0;32m<ipython-input-185-a3be0a5eee57>\u001b[0m in \u001b[0;36m<module>\u001b[0;34m\u001b[0m\n\u001b[0;32m----> 1\u001b[0;31m \u001b[0mplt\u001b[0m\u001b[0;34m.\u001b[0m\u001b[0mimread\u001b[0m\u001b[0;34m(\u001b[0m\u001b[0;34m)\u001b[0m\u001b[0;34m\u001b[0m\u001b[0;34m\u001b[0m\u001b[0m\n\u001b[0m",
      "\u001b[0;31mTypeError\u001b[0m: imread() missing 1 required positional argument: 'fname'"
     ]
    }
   ],
   "source": [
    "plt.imread('')"
   ]
  },
  {
   "cell_type": "code",
   "execution_count": null,
   "metadata": {},
   "outputs": [],
   "source": []
  }
 ],
 "metadata": {
  "kernelspec": {
   "display_name": "Python 3",
   "language": "python",
   "name": "python3"
  },
  "language_info": {
   "codemirror_mode": {
    "name": "ipython",
    "version": 3
   },
   "file_extension": ".py",
   "mimetype": "text/x-python",
   "name": "python",
   "nbconvert_exporter": "python",
   "pygments_lexer": "ipython3",
   "version": "3.6.8"
  }
 },
 "nbformat": 4,
 "nbformat_minor": 2
}
